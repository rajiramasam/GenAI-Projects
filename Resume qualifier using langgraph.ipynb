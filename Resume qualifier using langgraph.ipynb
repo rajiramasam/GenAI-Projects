{
 "cells": [
  {
   "cell_type": "code",
   "execution_count": null,
   "id": "bc6288f3-2640-4275-b392-8c44c5174670",
   "metadata": {},
   "outputs": [],
   "source": [
    "!pip install langgraph"
   ]
  },
  {
   "cell_type": "code",
   "execution_count": null,
   "id": "60fc77ed-480b-42cb-b26b-3bc45c504ec8",
   "metadata": {},
   "outputs": [],
   "source": [
    "!pip install langchain-google-genai google-generativeai"
   ]
  },
  {
   "cell_type": "code",
   "execution_count": null,
   "id": "5bded0a7-5cc4-4c81-9dda-d717b08af816",
   "metadata": {},
   "outputs": [],
   "source": [
    "from typing import TypedDict,Optional\n",
    "from langgraph.graph import StateGraph\n",
    "from langchain_google_genai import ChatGoogleGenerativeAI\n",
    "from langchain.schema import HumanMessage"
   ]
  },
  {
   "cell_type": "code",
   "execution_count": null,
   "id": "335f7689-cee3-4499-b41c-4b10b64f5102",
   "metadata": {},
   "outputs": [],
   "source": [
    "class GraphState(TypedDict): #sharedstate\n",
    "    resume:Optional[str]\n",
    "    qualified:Optional[bool]\n",
    "    message:Optional[str]"
   ]
  },
  {
   "cell_type": "code",
   "execution_count": null,
   "id": "17b4bd6f-0780-495c-aba9-8c0ee50ce3bb",
   "metadata": {},
   "outputs": [],
   "source": [
    "import os\n",
    "os.environ[\"GOOGLE_API_KEY\"]=\"your_api_key\"\n",
    "llm=ChatGoogleGenerativeAI(model='gemini-1.5-flash',temperature=0,api_key=os.environ[\"GOOGLE_API_KEY\"])"
   ]
  },
  {
   "cell_type": "code",
   "execution_count": null,
   "id": "0c7eba50-dcf3-4633-a7c0-e411ced9e7ed",
   "metadata": {},
   "outputs": [],
   "source": [
    "def load_resume(state):\n",
    "    resume = \"\"\"your resume content \"\"\"\n",
    "    return {\"resume\":resume}"
   ]
  },
  {
   "cell_type": "code",
   "execution_count": null,
   "id": "b3f09a10-12b5-4e11-b75f-62dabe71281d",
   "metadata": {},
   "outputs": [],
   "source": [
    "def check_qualification(state):\n",
    "    resume=state[\"resume\"]\n",
    "    prompt=f\"\"\"Based on this resume, is the candidate qualified for an Software development job?\n",
    "    Answer only YES or NO.\\n\\n{resume}\"\"\"\n",
    "    response=llm.invoke([HumanMessage(content=prompt)])\n",
    "    qualified=\"YES\" in response.content.upper()\n",
    "    return {\"resume\":resume,\"qualified\":qualified}\n",
    "\n",
    "def write_positive(state):\n",
    "    resume=state[\"resume\"]\n",
    "    prompt=f\"\"\"Write a positive reply for this\n",
    "    qualified candidate:\\n{resume}\"\"\"\n",
    "    response=llm.invoke([HumanMessage(content=prompt)])\n",
    "    return {\"message\":response.content}\n",
    "\n",
    "def write_rejection(state):\n",
    "    resume=state[\"resume\"]\n",
    "    prompt=f\"Politely reject this candidate:\\n{resume}\"\n",
    "    response=llm.invoke([HumanMessage(content=prompt)])\n",
    "    return {\"message\":response.content}\n",
    "\n",
    "def route_decision(state):\n",
    "    return \"positive feedback\" if state[\"qualified\"] else \"rejection message\""
   ]
  },
  {
   "cell_type": "code",
   "execution_count": null,
   "id": "4b1a0730-4ecd-4b4e-8c6b-a89f0b233a6b",
   "metadata": {},
   "outputs": [],
   "source": [
    "graph=StateGraph(GraphState)\n",
    "graph.add_node(\"load resume\",load_resume)\n",
    "graph.add_node(\"qualification\",check_qualification)\n",
    "graph.add_node(\"positive feedback\",write_positive)\n",
    "graph.add_node(\"negative message\",write_rejection)\n",
    "\n",
    "graph.set_entry_point(\"load resume\")\n",
    "graph.add_edge(\"load resume\",\"qualification\")\n",
    "graph.add_conditional_edges(\"qualification\",route_decision)\n",
    "graph.set_finish_point(\"positive feedback\")\n",
    "graph.set_finish_point(\"negative message\")"
   ]
  },
  {
   "cell_type": "code",
   "execution_count": null,
   "id": "913c4207-a8ab-4a10-9051-4b737cdd7e69",
   "metadata": {},
   "outputs": [],
   "source": [
    "gr=graph.compile()\n",
    "output=gr.invoke({})\n",
    "\n",
    "print(\"Resume:\")\n",
    "print(output[\"resume\"])\n",
    "print(\"\\n Result:\",\"Qualified\" if output[\"qualified\"] else \"Not qualified\")\n",
    "print(\"\\n Final Message:\")\n",
    "print(output[\"message\"])"
   ]
  }
 ],
 "metadata": {
  "kernelspec": {
   "display_name": "Python [conda env:base] *",
   "language": "python",
   "name": "conda-base-py"
  },
  "language_info": {
   "codemirror_mode": {
    "name": "ipython",
    "version": 3
   },
   "file_extension": ".py",
   "mimetype": "text/x-python",
   "name": "python",
   "nbconvert_exporter": "python",
   "pygments_lexer": "ipython3",
   "version": "3.13.5"
  }
 },
 "nbformat": 4,
 "nbformat_minor": 5
}
