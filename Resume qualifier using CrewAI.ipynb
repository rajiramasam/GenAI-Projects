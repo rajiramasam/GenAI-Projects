{
 "cells": [
  {
   "cell_type": "code",
   "execution_count": 13,
   "id": "d693870a-b261-4d77-b769-89d6fbe19c62",
   "metadata": {},
   "outputs": [
    {
     "name": "stdout",
     "output_type": "stream",
     "text": [
      "Requirement already satisfied: crewai in c:\\users\\rajir\\anaconda3\\lib\\site-packages (0.141.0)\n",
      "Requirement already satisfied: appdirs>=1.4.4 in c:\\users\\rajir\\anaconda3\\lib\\site-packages (from crewai) (1.4.4)\n",
      "Requirement already satisfied: blinker>=1.9.0 in c:\\users\\rajir\\anaconda3\\lib\\site-packages (from crewai) (1.9.0)\n",
      "Requirement already satisfied: chromadb>=0.5.23 in c:\\users\\rajir\\anaconda3\\lib\\site-packages (from crewai) (1.0.15)\n",
      "Requirement already satisfied: click>=8.1.7 in c:\\users\\rajir\\anaconda3\\lib\\site-packages (from crewai) (8.1.8)\n",
      "Requirement already satisfied: instructor>=1.3.3 in c:\\users\\rajir\\anaconda3\\lib\\site-packages (from crewai) (1.9.2)\n",
      "Requirement already satisfied: json-repair==0.25.2 in c:\\users\\rajir\\anaconda3\\lib\\site-packages (from crewai) (0.25.2)\n",
      "Requirement already satisfied: json5>=0.10.0 in c:\\users\\rajir\\anaconda3\\lib\\site-packages (from crewai) (0.12.0)\n",
      "Requirement already satisfied: jsonref>=1.1.0 in c:\\users\\rajir\\anaconda3\\lib\\site-packages (from crewai) (1.1.0)\n",
      "\n",
      "Requirement already satisfied: onnxruntime==1.22.0 in c:\\users\\rajir\\anaconda3\\lib\\site-packages (from crewai) (1.22.0)\n",
      "Requirement already satisfied: openai>=1.13.3 in c:\\users\\rajir\\anaconda3\\lib\\site-packages (from crewai) (1.95.1)\n",
      "Requirement already satisfied: openpyxl>=3.1.5 in c:\\users\\rajir\\anaconda3\\lib\\site-packages (from crewai) (3.1.5)\n",
      "Requirement already satisfied: opentelemetry-api>=1.30.0 in c:\\users\\rajir\\anaconda3\\lib\\site-packages (from crewai) (1.35.0)\n",
      "Requirement already satisfied: opentelemetry-exporter-otlp-proto-http>=1.30.0 in c:\\users\\rajir\\anaconda3\\lib\\site-packages (from crewai) (1.35.0)\n",
      "Requirement already satisfied: opentelemetry-sdk>=1.30.0 in c:\\users\\rajir\\anaconda3\\lib\\site-packages (from crewai) (1.35.0)\n",
      "Requirement already satisfied: pdfplumber>=0.11.4 in c:\\users\\rajir\\anaconda3\\lib\\site-packages (from crewai) (0.11.7)\n",
      "Requirement already satisfied: pydantic>=2.4.2 in c:\\users\\rajir\\anaconda3\\lib\\site-packages (from crewai) (2.10.3)\n",
      "Requirement already satisfied: pyjwt>=2.9.0 in c:\\users\\rajir\\anaconda3\\lib\\site-packages (from crewai) (2.10.1)\n",
      "Requirement already satisfied: python-dotenv>=1.0.0 in c:\\users\\rajir\\anaconda3\\lib\\site-packages (from crewai) (1.1.0)\n",
      "Requirement already satisfied: pyvis>=0.3.2 in c:\\users\\rajir\\anaconda3\\lib\\site-packages (from crewai) (0.3.2)\n",
      "Requirement already satisfied: regex>=2024.9.11 in c:\\users\\rajir\\anaconda3\\lib\\site-packages (from crewai) (2024.11.6)\n",
      "Requirement already satisfied: tokenizers>=0.20.3 in c:\\users\\rajir\\anaconda3\\lib\\site-packages (from crewai) (0.21.2)\n",
      "Requirement already satisfied: tomli-w>=1.1.0 in c:\\users\\rajir\\anaconda3\\lib\\site-packages (from crewai) (1.2.0)\n",
      "Requirement already satisfied: tomli>=2.0.2 in c:\\users\\rajir\\anaconda3\\lib\\site-packages (from crewai) (2.2.1)\n",
      "Requirement already satisfied: uv>=0.4.25 in c:\\users\\rajir\\anaconda3\\lib\\site-packages (from crewai) (0.7.21)\n",
      "\n",
      "\n",
      "\n",
      "\n",
      "\n",
      "\n",
      "Requirement already satisfied: coloredlogs in c:\\users\\rajir\\anaconda3\\lib\\site-packages (from onnxruntime==1.22.0->crewai) (15.0.1)\n",
      "Requirement already satisfied: flatbuffers in c:\\users\\rajir\\anaconda3\\lib\\site-packages (from onnxruntime==1.22.0->crewai) (25.2.10)\n",
      "Requirement already satisfied: numpy>=1.21.6 in c:\\users\\rajir\\anaconda3\\lib\\site-packages (from onnxruntime==1.22.0->crewai) (2.1.3)\n",
      "Requirement already satisfied: packaging in c:\\users\\rajir\\anaconda3\\lib\\site-packages (from onnxruntime==1.22.0->crewai) (24.2)\n",
      "Requirement already satisfied: protobuf in c:\\users\\rajir\\anaconda3\\lib\\site-packages (from onnxruntime==1.22.0->crewai) (5.29.5)\n",
      "Requirement already satisfied: sympy in c:\\users\\rajir\\anaconda3\\lib\\site-packages (from onnxruntime==1.22.0->crewai) (1.13.3)\n",
      "\n",
      "\n",
      "\n",
      "\n",
      "\n",
      "Requirement already satisfied: annotated-types>=0.6.0 in c:\\users\\rajir\\anaconda3\\lib\\site-packages (from pydantic>=2.4.2->crewai) (0.6.0)\n",
      "Requirement already satisfied: pydantic-core==2.27.1 in c:\\users\\rajir\\anaconda3\\lib\\site-packages (from pydantic>=2.4.2->crewai) (2.27.1)\n",
      "Requirement already satisfied: typing-extensions>=4.12.2 in c:\\users\\rajir\\anaconda3\\lib\\site-packages (from pydantic>=2.4.2->crewai) (4.12.2)\n",
      "Requirement already satisfied: build>=1.0.3 in c:\\users\\rajir\\anaconda3\\lib\\site-packages (from chromadb>=0.5.23->crewai) (1.2.2.post1)\n",
      "Requirement already satisfied: pybase64>=1.4.1 in c:\\users\\rajir\\anaconda3\\lib\\site-packages (from chromadb>=0.5.23->crewai) (1.4.1)\n",
      "Requirement already satisfied: uvicorn>=0.18.3 in c:\\users\\rajir\\anaconda3\\lib\\site-packages (from uvicorn[standard]>=0.18.3->chromadb>=0.5.23->crewai) (0.35.0)\n",
      "Requirement already satisfied: posthog<6.0.0,>=2.4.0 in c:\\users\\rajir\\anaconda3\\lib\\site-packages (from chromadb>=0.5.23->crewai) (5.4.0)\n",
      "Requirement already satisfied: opentelemetry-exporter-otlp-proto-grpc>=1.2.0 in c:\\users\\rajir\\anaconda3\\lib\\site-packages (from chromadb>=0.5.23->crewai) (1.35.0)\n",
      "Requirement already satisfied: pypika>=0.48.9 in c:\\users\\rajir\\anaconda3\\lib\\site-packages (from chromadb>=0.5.23->crewai) (0.48.9)\n",
      "Requirement already satisfied: tqdm>=4.65.0 in c:\\users\\rajir\\anaconda3\\lib\\site-packages (from chromadb>=0.5.23->crewai) (4.67.1)\n",
      "Requirement already satisfied: overrides>=7.3.1 in c:\\users\\rajir\\anaconda3\\lib\\site-packages (from chromadb>=0.5.23->crewai) (7.4.0)\n",
      "Requirement already satisfied: importlib-resources in c:\\users\\rajir\\anaconda3\\lib\\site-packages (from chromadb>=0.5.23->crewai) (6.5.2)\n",
      "Requirement already satisfied: grpcio>=1.58.0 in c:\\users\\rajir\\anaconda3\\lib\\site-packages (from chromadb>=0.5.23->crewai) (1.73.1)\n",
      "Requirement already satisfied: bcrypt>=4.0.1 in c:\\users\\rajir\\anaconda3\\lib\\site-packages (from chromadb>=0.5.23->crewai) (4.3.0)\n",
      "Requirement already satisfied: typer>=0.9.0 in c:\\users\\rajir\\anaconda3\\lib\\site-packages (from chromadb>=0.5.23->crewai) (0.9.0)\n",
      "Requirement already satisfied: kubernetes>=28.1.0 in c:\\users\\rajir\\anaconda3\\lib\\site-packages (from chromadb>=0.5.23->crewai) (33.1.0)\n",
      "Requirement already satisfied: tenacity>=8.2.3 in c:\\users\\rajir\\anaconda3\\lib\\site-packages (from chromadb>=0.5.23->crewai) (9.0.0)\n",
      "Requirement already satisfied: pyyaml>=6.0.0 in c:\\users\\rajir\\anaconda3\\lib\\site-packages (from chromadb>=0.5.23->crewai) (6.0.2)\n",
      "Requirement already satisfied: mmh3>=4.0.1 in c:\\users\\rajir\\anaconda3\\lib\\site-packages (from chromadb>=0.5.23->crewai) (5.1.0)\n",
      "Requirement already satisfied: orjson>=3.9.12 in c:\\users\\rajir\\anaconda3\\lib\\site-packages (from chromadb>=0.5.23->crewai) (3.10.18)\n",
      "Requirement already satisfied: rich>=10.11.0 in c:\\users\\rajir\\anaconda3\\lib\\site-packages (from chromadb>=0.5.23->crewai) (13.9.4)\n",
      "Requirement already satisfied: requests<3.0,>=2.7 in c:\\users\\rajir\\anaconda3\\lib\\site-packages (from posthog<6.0.0,>=2.4.0->chromadb>=0.5.23->crewai) (2.32.3)\n",
      "Requirement already satisfied: six>=1.5 in c:\\users\\rajir\\anaconda3\\lib\\site-packages (from posthog<6.0.0,>=2.4.0->chromadb>=0.5.23->crewai) (1.17.0)\n",
      "Requirement already satisfied: python-dateutil>=2.2 in c:\\users\\rajir\\anaconda3\\lib\\site-packages (from posthog<6.0.0,>=2.4.0->chromadb>=0.5.23->crewai) (2.9.0.post0)\n",
      "Requirement already satisfied: backoff>=1.10.0 in c:\\users\\rajir\\anaconda3\\lib\\site-packages (from posthog<6.0.0,>=2.4.0->chromadb>=0.5.23->crewai) (2.2.1)\n",
      "Requirement already satisfied: distro>=1.5.0 in c:\\users\\rajir\\anaconda3\\lib\\site-packages (from posthog<6.0.0,>=2.4.0->chromadb>=0.5.23->crewai) (1.9.0)\n",
      "Requirement already satisfied: charset-normalizer<4,>=2 in c:\\users\\rajir\\anaconda3\\lib\\site-packages (from requests<3.0,>=2.7->posthog<6.0.0,>=2.4.0->chromadb>=0.5.23->crewai) (3.3.2)\n",
      "Requirement already satisfied: idna<4,>=2.5 in c:\\users\\rajir\\anaconda3\\lib\\site-packages (from requests<3.0,>=2.7->posthog<6.0.0,>=2.4.0->chromadb>=0.5.23->crewai) (3.7)\n",
      "Requirement already satisfied: urllib3<3,>=1.21.1 in c:\\users\\rajir\\anaconda3\\lib\\site-packages (from requests<3.0,>=2.7->posthog<6.0.0,>=2.4.0->chromadb>=0.5.23->crewai) (2.3.0)\n",
      "Requirement already satisfied: certifi>=2017.4.17 in c:\\users\\rajir\\anaconda3\\lib\\site-packages (from requests<3.0,>=2.7->posthog<6.0.0,>=2.4.0->chromadb>=0.5.23->crewai) (2025.6.15)\n",
      "Requirement already satisfied: pyproject_hooks in c:\\users\\rajir\\anaconda3\\lib\\site-packages (from build>=1.0.3->chromadb>=0.5.23->crewai) (1.2.0)\n",
      "Requirement already satisfied: colorama in c:\\users\\rajir\\anaconda3\\lib\\site-packages (from build>=1.0.3->chromadb>=0.5.23->crewai) (0.4.6)\n",
      "\n",
      "\n",
      "\n",
      "\n",
      "Requirement already satisfied: docstring-parser<1.0,>=0.16 in c:\\users\\rajir\\anaconda3\\lib\\site-packages (from instructor>=1.3.3->crewai) (0.16)\n",
      "Requirement already satisfied: jiter<0.11,>=0.6.1 in c:\\users\\rajir\\anaconda3\\lib\\site-packages (from instructor>=1.3.3->crewai) (0.10.0)\n",
      "Requirement already satisfied: mkdocs-material>=9.5.49 in c:\\users\\rajir\\anaconda3\\lib\\site-packages (from instructor>=1.3.3->crewai) (9.6.15)\n",
      "Requirement already satisfied: mkdocs>=1.6.1 in c:\\users\\rajir\\anaconda3\\lib\\site-packages (from instructor>=1.3.3->crewai) (1.6.1)\n",
      "Requirement already satisfied: pre-commit>=4.2.0 in c:\\users\\rajir\\anaconda3\\lib\\site-packages (from instructor>=1.3.3->crewai) (4.2.0)\n",
      "\n",
      "\n",
      "\n",
      "\n",
      "\n",
      "\n",
      "Requirement already satisfied: sniffio in c:\\users\\rajir\\anaconda3\\lib\\site-packages (from openai>=1.13.3->crewai) (1.3.0)\n",
      "Requirement already satisfied: markdown-it-py>=2.2.0 in c:\\users\\rajir\\anaconda3\\lib\\site-packages (from rich>=10.11.0->chromadb>=0.5.23->crewai) (2.2.0)\n",
      "Requirement already satisfied: pygments<3.0.0,>=2.13.0 in c:\\users\\rajir\\anaconda3\\lib\\site-packages (from rich>=10.11.0->chromadb>=0.5.23->crewai) (2.19.1)\n",
      "Requirement already satisfied: google-auth>=1.0.1 in c:\\users\\rajir\\anaconda3\\lib\\site-packages (from kubernetes>=28.1.0->chromadb>=0.5.23->crewai) (2.40.3)\n",
      "Requirement already satisfied: websocket-client!=0.40.0,!=0.41.*,!=0.42.*,>=0.32.0 in c:\\users\\rajir\\anaconda3\\lib\\site-packages (from kubernetes>=28.1.0->chromadb>=0.5.23->crewai) (1.8.0)\n",
      "Requirement already satisfied: requests-oauthlib in c:\\users\\rajir\\anaconda3\\lib\\site-packages (from kubernetes>=28.1.0->chromadb>=0.5.23->crewai) (2.0.0)\n",
      "Requirement already satisfied: oauthlib>=3.2.2 in c:\\users\\rajir\\anaconda3\\lib\\site-packages (from kubernetes>=28.1.0->chromadb>=0.5.23->crewai) (3.3.1)\n",
      "Requirement already satisfied: durationpy>=0.7 in c:\\users\\rajir\\anaconda3\\lib\\site-packages (from kubernetes>=28.1.0->chromadb>=0.5.23->crewai) (0.10)\n",
      "Requirement already satisfied: cachetools<6.0,>=2.0.0 in c:\\users\\rajir\\anaconda3\\lib\\site-packages (from google-auth>=1.0.1->kubernetes>=28.1.0->chromadb>=0.5.23->crewai) (5.5.1)\n",
      "Requirement already satisfied: pyasn1-modules>=0.2.1 in c:\\users\\rajir\\anaconda3\\lib\\site-packages (from google-auth>=1.0.1->kubernetes>=28.1.0->chromadb>=0.5.23->crewai) (0.2.8)\n",
      "Requirement already satisfied: rsa<5,>=3.1.4 in c:\\users\\rajir\\anaconda3\\lib\\site-packages (from google-auth>=1.0.1->kubernetes>=28.1.0->chromadb>=0.5.23->crewai) (4.9.1)\n",
      "Requirement already satisfied: pyasn1>=0.1.3 in c:\\users\\rajir\\anaconda3\\lib\\site-packages (from rsa<5,>=3.1.4->google-auth>=1.0.1->kubernetes>=28.1.0->chromadb>=0.5.23->crewai) (0.4.8)\n",
      "Requirement already satisfied: mdurl~=0.1 in c:\\users\\rajir\\anaconda3\\lib\\site-packages (from markdown-it-py>=2.2.0->rich>=10.11.0->chromadb>=0.5.23->crewai) (0.1.0)\n",
      "Requirement already satisfied: ghp-import>=1.0 in c:\\users\\rajir\\anaconda3\\lib\\site-packages (from mkdocs>=1.6.1->instructor>=1.3.3->crewai) (2.1.0)\n",
      "Requirement already satisfied: markdown>=3.3.6 in c:\\users\\rajir\\anaconda3\\lib\\site-packages (from mkdocs>=1.6.1->instructor>=1.3.3->crewai) (3.8)\n",
      "Requirement already satisfied: mergedeep>=1.3.4 in c:\\users\\rajir\\anaconda3\\lib\\site-packages (from mkdocs>=1.6.1->instructor>=1.3.3->crewai) (1.3.4)\n",
      "Requirement already satisfied: mkdocs-get-deps>=0.2.0 in c:\\users\\rajir\\anaconda3\\lib\\site-packages (from mkdocs>=1.6.1->instructor>=1.3.3->crewai) (0.2.0)\n",
      "Requirement already satisfied: pathspec>=0.11.1 in c:\\users\\rajir\\anaconda3\\lib\\site-packages (from mkdocs>=1.6.1->instructor>=1.3.3->crewai) (0.12.1)\n",
      "Requirement already satisfied: pyyaml-env-tag>=0.1 in c:\\users\\rajir\\anaconda3\\lib\\site-packages (from mkdocs>=1.6.1->instructor>=1.3.3->crewai) (1.1)\n",
      "Requirement already satisfied: watchdog>=2.0 in c:\\users\\rajir\\anaconda3\\lib\\site-packages (from mkdocs>=1.6.1->instructor>=1.3.3->crewai) (4.0.2)\n",
      "Requirement already satisfied: platformdirs>=2.2.0 in c:\\users\\rajir\\anaconda3\\lib\\site-packages (from mkdocs-get-deps>=0.2.0->mkdocs>=1.6.1->instructor>=1.3.3->crewai) (4.3.7)\n",
      "Requirement already satisfied: babel~=2.10 in c:\\users\\rajir\\anaconda3\\lib\\site-packages (from mkdocs-material>=9.5.49->instructor>=1.3.3->crewai) (2.16.0)\n",
      "Requirement already satisfied: backrefs~=5.7.post1 in c:\\users\\rajir\\anaconda3\\lib\\site-packages (from mkdocs-material>=9.5.49->instructor>=1.3.3->crewai) (5.9)\n",
      "Requirement already satisfied: mkdocs-material-extensions~=1.3 in c:\\users\\rajir\\anaconda3\\lib\\site-packages (from mkdocs-material>=9.5.49->instructor>=1.3.3->crewai) (1.3.1)\n",
      "Requirement already satisfied: paginate~=0.5 in c:\\users\\rajir\\anaconda3\\lib\\site-packages (from mkdocs-material>=9.5.49->instructor>=1.3.3->crewai) (0.5.7)\n",
      "Requirement already satisfied: pymdown-extensions~=10.2 in c:\\users\\rajir\\anaconda3\\lib\\site-packages (from mkdocs-material>=9.5.49->instructor>=1.3.3->crewai) (10.16)\n",
      "Requirement already satisfied: et-xmlfile in c:\\users\\rajir\\anaconda3\\lib\\site-packages (from openpyxl>=3.1.5->crewai) (1.1.0)\n",
      "Requirement already satisfied: googleapis-common-protos~=1.57 in c:\\users\\rajir\\anaconda3\\lib\\site-packages (from opentelemetry-exporter-otlp-proto-grpc>=1.2.0->chromadb>=0.5.23->crewai) (1.70.0)\n",
      "Requirement already satisfied: opentelemetry-exporter-otlp-proto-common==1.35.0 in c:\\users\\rajir\\anaconda3\\lib\\site-packages (from opentelemetry-exporter-otlp-proto-grpc>=1.2.0->chromadb>=0.5.23->crewai) (1.35.0)\n",
      "Requirement already satisfied: opentelemetry-proto==1.35.0 in c:\\users\\rajir\\anaconda3\\lib\\site-packages (from opentelemetry-exporter-otlp-proto-grpc>=1.2.0->chromadb>=0.5.23->crewai) (1.35.0)\n",
      "Requirement already satisfied: opentelemetry-semantic-conventions==0.56b0 in c:\\users\\rajir\\anaconda3\\lib\\site-packages (from opentelemetry-sdk>=1.30.0->crewai) (0.56b0)\n",
      "Requirement already satisfied: pdfminer.six==20250506 in c:\\users\\rajir\\anaconda3\\lib\\site-packages (from pdfplumber>=0.11.4->crewai) (20250506)\n",
      "Requirement already satisfied: Pillow>=9.1 in c:\\users\\rajir\\anaconda3\\lib\\site-packages (from pdfplumber>=0.11.4->crewai) (11.1.0)\n",
      "Requirement already satisfied: pypdfium2>=4.18.0 in c:\\users\\rajir\\anaconda3\\lib\\site-packages (from pdfplumber>=0.11.4->crewai) (4.30.1)\n",
      "Requirement already satisfied: cryptography>=36.0.0 in c:\\users\\rajir\\anaconda3\\lib\\site-packages (from pdfminer.six==20250506->pdfplumber>=0.11.4->crewai) (44.0.1)\n",
      "Requirement already satisfied: cffi>=1.12 in c:\\users\\rajir\\anaconda3\\lib\\site-packages (from cryptography>=36.0.0->pdfminer.six==20250506->pdfplumber>=0.11.4->crewai) (1.17.1)\n",
      "Requirement already satisfied: pycparser in c:\\users\\rajir\\anaconda3\\lib\\site-packages (from cffi>=1.12->cryptography>=36.0.0->pdfminer.six==20250506->pdfplumber>=0.11.4->crewai) (2.21)\n",
      "Requirement already satisfied: cfgv>=2.0.0 in c:\\users\\rajir\\anaconda3\\lib\\site-packages (from pre-commit>=4.2.0->instructor>=1.3.3->crewai) (3.4.0)\n",
      "Requirement already satisfied: identify>=1.0.0 in c:\\users\\rajir\\anaconda3\\lib\\site-packages (from pre-commit>=4.2.0->instructor>=1.3.3->crewai) (2.6.12)\n",
      "Requirement already satisfied: nodeenv>=0.11.1 in c:\\users\\rajir\\anaconda3\\lib\\site-packages (from pre-commit>=4.2.0->instructor>=1.3.3->crewai) (1.9.1)\n",
      "Requirement already satisfied: virtualenv>=20.10.0 in c:\\users\\rajir\\anaconda3\\lib\\site-packages (from pre-commit>=4.2.0->instructor>=1.3.3->crewai) (20.31.2)\n",
      "Requirement already satisfied: ipython>=5.3.0 in c:\\users\\rajir\\anaconda3\\lib\\site-packages (from pyvis>=0.3.2->crewai) (8.30.0)\n",
      "Requirement already satisfied: jsonpickle>=1.4.1 in c:\\users\\rajir\\anaconda3\\lib\\site-packages (from pyvis>=0.3.2->crewai) (4.1.1)\n",
      "Requirement already satisfied: networkx>=1.11 in c:\\users\\rajir\\anaconda3\\lib\\site-packages (from pyvis>=0.3.2->crewai) (3.4.2)\n",
      "Requirement already satisfied: decorator in c:\\users\\rajir\\anaconda3\\lib\\site-packages (from ipython>=5.3.0->pyvis>=0.3.2->crewai) (5.1.1)\n",
      "Requirement already satisfied: jedi>=0.16 in c:\\users\\rajir\\anaconda3\\lib\\site-packages (from ipython>=5.3.0->pyvis>=0.3.2->crewai) (0.19.2)\n",
      "Requirement already satisfied: matplotlib-inline in c:\\users\\rajir\\anaconda3\\lib\\site-packages (from ipython>=5.3.0->pyvis>=0.3.2->crewai) (0.1.6)\n",
      "Requirement already satisfied: prompt-toolkit<3.1.0,>=3.0.41 in c:\\users\\rajir\\anaconda3\\lib\\site-packages (from ipython>=5.3.0->pyvis>=0.3.2->crewai) (3.0.43)\n",
      "Requirement already satisfied: stack-data in c:\\users\\rajir\\anaconda3\\lib\\site-packages (from ipython>=5.3.0->pyvis>=0.3.2->crewai) (0.2.0)\n",
      "Requirement already satisfied: traitlets>=5.13.0 in c:\\users\\rajir\\anaconda3\\lib\\site-packages (from ipython>=5.3.0->pyvis>=0.3.2->crewai) (5.14.3)\n",
      "Requirement already satisfied: wcwidth in c:\\users\\rajir\\anaconda3\\lib\\site-packages (from prompt-toolkit<3.1.0,>=3.0.41->ipython>=5.3.0->pyvis>=0.3.2->crewai) (0.2.5)\n",
      "Requirement already satisfied: parso<0.9.0,>=0.8.4 in c:\\users\\rajir\\anaconda3\\lib\\site-packages (from jedi>=0.16->ipython>=5.3.0->pyvis>=0.3.2->crewai) (0.8.4)\n",
      "Requirement already satisfied: huggingface-hub<1.0,>=0.16.4 in c:\\users\\rajir\\anaconda3\\lib\\site-packages (from tokenizers>=0.20.3->crewai) (0.33.4)\n",
      "Requirement already satisfied: filelock in c:\\users\\rajir\\anaconda3\\lib\\site-packages (from huggingface-hub<1.0,>=0.16.4->tokenizers>=0.20.3->crewai) (3.17.0)\n",
      "Requirement already satisfied: fsspec>=2023.5.0 in c:\\users\\rajir\\anaconda3\\lib\\site-packages (from huggingface-hub<1.0,>=0.16.4->tokenizers>=0.20.3->crewai) (2025.3.2)\n",
      "Requirement already satisfied: httptools>=0.6.3 in c:\\users\\rajir\\anaconda3\\lib\\site-packages (from uvicorn[standard]>=0.18.3->chromadb>=0.5.23->crewai) (0.6.4)\n",
      "Requirement already satisfied: watchfiles>=0.13 in c:\\users\\rajir\\anaconda3\\lib\\site-packages (from uvicorn[standard]>=0.18.3->chromadb>=0.5.23->crewai) (1.1.0)\n",
      "Requirement already satisfied: websockets>=10.4 in c:\\users\\rajir\\anaconda3\\lib\\site-packages (from uvicorn[standard]>=0.18.3->chromadb>=0.5.23->crewai) (15.0.1)\n",
      "Requirement already satisfied: distlib<1,>=0.3.7 in c:\\users\\rajir\\anaconda3\\lib\\site-packages (from virtualenv>=20.10.0->pre-commit>=4.2.0->instructor>=1.3.3->crewai) (0.3.9)\n",
      "Requirement already satisfied: humanfriendly>=9.1 in c:\\users\\rajir\\anaconda3\\lib\\site-packages (from coloredlogs->onnxruntime==1.22.0->crewai) (10.0)\n",
      "Requirement already satisfied: pyreadline3 in c:\\users\\rajir\\anaconda3\\lib\\site-packages (from humanfriendly>=9.1->coloredlogs->onnxruntime==1.22.0->crewai) (3.5.4)\n",
      "Requirement already satisfied: executing in c:\\users\\rajir\\anaconda3\\lib\\site-packages (from stack-data->ipython>=5.3.0->pyvis>=0.3.2->crewai) (0.8.3)\n",
      "Requirement already satisfied: asttokens in c:\\users\\rajir\\anaconda3\\lib\\site-packages (from stack-data->ipython>=5.3.0->pyvis>=0.3.2->crewai) (3.0.0)\n",
      "Requirement already satisfied: pure-eval in c:\\users\\rajir\\anaconda3\\lib\\site-packages (from stack-data->ipython>=5.3.0->pyvis>=0.3.2->crewai) (0.2.2)\n",
      "Requirement already satisfied: mpmath<1.4,>=1.1.0 in c:\\users\\rajir\\anaconda3\\lib\\site-packages (from sympy->onnxruntime==1.22.0->crewai) (1.3.0)\n"
     ]
    }
   ],
   "source": [
    "!pip install crewai"
   ]
  },
  {
   "cell_type": "code",
   "execution_count": 14,
   "id": "de673714-ad21-4905-b4dd-5305c5204296",
   "metadata": {},
   "outputs": [],
   "source": [
    "from langchain_community.chat_models import ChatLiteLLM\n",
    "from crewai import Agent,Task,Crew\n",
    "import os"
   ]
  },
  {
   "cell_type": "code",
   "execution_count": 15,
   "id": "84f1e02e-bfd1-4ea9-b265-5197f8a3f6eb",
   "metadata": {},
   "outputs": [],
   "source": [
    "os.environ[\"GOOGLE_API_KEY\"]=\"your_api_key\""
   ]
  },
  {
   "cell_type": "code",
   "execution_count": 17,
   "id": "7ef81b8c-d6cc-43b4-837d-190fc56f1656",
   "metadata": {},
   "outputs": [],
   "source": [
    "llm=ChatLiteLLM(model='gemini/gemini-1.5-flash',temperature=0,api_key=os.environ[\"GOOGLE_API_KEY\"])"
   ]
  },
  {
   "cell_type": "code",
   "execution_count": 18,
   "id": "c545e16c-daf9-48df-812c-ea83bb974f13",
   "metadata": {},
   "outputs": [],
   "source": [
    "resume=\"\"\"your resume content\"\"\""
   ]
  },
  {
   "cell_type": "code",
   "execution_count": 19,
   "id": "5ceeab31-fb71-4b5e-ae63-1dbf30cb8f7a",
   "metadata": {},
   "outputs": [],
   "source": [
    "evaluator=Agent(role='Resume Evaluator',\n",
    "                goal='Evaluate the resume for AI/ML job fit',\n",
    "                backstory='Expeet talent in AL/ML hiring talents',\n",
    "                verbose=True,llm=llm)"
   ]
  },
  {
   "cell_type": "code",
   "execution_count": 20,
   "id": "915e0979-7914-4f75-805f-15c440cd954b",
   "metadata": {},
   "outputs": [],
   "source": [
    "writer=Agent(role='Reply Writer',\n",
    "             goal='Write clear replies to candidates',\n",
    "             backstory='An HR pro who crafts plite accept/reject messages',\n",
    "             verbose=True,llm=llm)"
   ]
  },
  {
   "cell_type": "code",
   "execution_count": 21,
   "id": "53b1df28-8164-4c63-b70b-f39647d8882c",
   "metadata": {},
   "outputs": [],
   "source": [
    "eva_task=Task( description=f\"\"\"Check if the following resume fit for the AI/ML Engineer role.Respond with YES or NO and a short reason:\\b\\n{resume}\"\"\",\n",
    "    agent=evaluator,\n",
    "    expected_output=\"YES or NO with short reason\")"
   ]
  },
  {
   "cell_type": "code",
   "execution_count": 22,
   "id": "dbaa170e-10bc-48d8-b0d3-91b175434d4b",
   "metadata": {},
   "outputs": [],
   "source": [
    "writer_task=Task(\n",
    "    description=f\"\"\"Using the evaluation result, write:\n",
    "    -An acceptance message if YES\n",
    "    -A polite rejection if NO\"\"\",\n",
    "    agent=writer,\n",
    "    context=[eva_task],\n",
    "    expected_output=\"A professional one message send to the candidate.\")"
   ]
  },
  {
   "cell_type": "code",
   "execution_count": 23,
   "id": "904e5525-27b1-48d8-877d-a0d1d7d0a0b0",
   "metadata": {},
   "outputs": [],
   "source": [
    "crew=Crew(\n",
    "    agents=[evaluator,writer],\n",
    "    tasks=[eva_task,writer_task],\n",
    "    verbose=True)"
   ]
  },
  {
   "cell_type": "code",
   "execution_count": null,
   "id": "7f8ebe40-d370-460d-9087-fef8fa097077",
   "metadata": {},
   "outputs": [],
   "source": [
    "res=crew.kickoff()\n",
    "print(\"Final message: \\n\")\n",
    "print(res)"
   ]
  }
 ],
 "metadata": {
  "kernelspec": {
   "display_name": "Python [conda env:base] *",
   "language": "python",
   "name": "conda-base-py"
  },
  "language_info": {
   "codemirror_mode": {
    "name": "ipython",
    "version": 3
   },
   "file_extension": ".py",
   "mimetype": "text/x-python",
   "name": "python",
   "nbconvert_exporter": "python",
   "pygments_lexer": "ipython3",
   "version": "3.13.5"
  }
 },
 "nbformat": 4,
 "nbformat_minor": 5
}
